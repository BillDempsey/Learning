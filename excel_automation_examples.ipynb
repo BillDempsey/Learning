{
 "cells": [
  {
   "cell_type": "code",
   "execution_count": 3,
   "metadata": {},
   "outputs": [
    {
     "name": "stdout",
     "output_type": "stream",
     "text": [
      "Entered number is  123-456789-\n",
      "Not a decimal\n"
     ]
    },
    {
     "data": {
      "text/plain": [
       "False"
      ]
     },
     "execution_count": 3,
     "metadata": {},
     "output_type": "execute_result"
    }
   ],
   "source": [
    "# Checks to see if the inputted text is in Irish phone number format\n",
    "# Assuming that there's a hyphen after the area code ...\n",
    "# ... and that the ocuntry code is not included\n",
    "# Can try this with regex much more easily, as in next code cell\n",
    "\n",
    "def isPhoneNumber(text):\n",
    "    indices = [0,1,2,4,5,6,7,8,9,10]\n",
    "    print(\"Entered number is \",text)\n",
    "    if len(text) != 11:\n",
    "        print(len(text), \" characters entered (instead of the 12 desired)\")\n",
    "        return False\n",
    "    for i in indices:\n",
    "        if not text[i].isdecimal():\n",
    "            print(\"Not a decimal\")\n",
    "            return False\n",
    "    if text[3] != \"-\":\n",
    "        print(\"No '-' in the fourth position\")\n",
    "        return False\n",
    "    print(\"This is in fact a phone number\")\n",
    "    return True\n",
    "\n",
    "isPhoneNumber(\"123-456789\")"
   ]
  },
  {
   "cell_type": "code",
   "execution_count": null,
   "metadata": {},
   "outputs": [],
   "source": [
    "os.getcwd()\n",
    "# os.chdir() change the current working directory"
   ]
  },
  {
   "cell_type": "code",
   "execution_count": 23,
   "metadata": {},
   "outputs": [
    {
     "name": "stdout",
     "output_type": "stream",
     "text": [
      "<class 'openpyxl.workbook.workbook.Workbook'>\n",
      "Sheet1\n",
      "Sheet2\n",
      "Sheet3\n",
      "<Worksheet \"Sheet1\">\n",
      "2015-04-05 13:34:02\n",
      "1 Apples\n",
      "3 Pears\n",
      "5 Apples\n",
      "7 Strawberries\n"
     ]
    },
    {
     "ename": "TypeError",
     "evalue": "'int' object is not callable",
     "output_type": "error",
     "traceback": [
      "\u001b[1;31m---------------------------------------------------------------------------\u001b[0m",
      "\u001b[1;31mTypeError\u001b[0m                                 Traceback (most recent call last)",
      "Cell \u001b[1;32mIn[23], line 25\u001b[0m\n\u001b[0;32m     22\u001b[0m     \u001b[38;5;28mprint\u001b[39m(i, chosen_sheet\u001b[38;5;241m.\u001b[39mcell(row\u001b[38;5;241m=\u001b[39mi,column\u001b[38;5;241m=\u001b[39m\u001b[38;5;241m2\u001b[39m)\u001b[38;5;241m.\u001b[39mvalue)\n\u001b[0;32m     24\u001b[0m \u001b[38;5;66;03m# Determine sheet size\u001b[39;00m\n\u001b[1;32m---> 25\u001b[0m rows \u001b[38;5;241m=\u001b[39m \u001b[43mchosen_sheet\u001b[49m\u001b[38;5;241;43m.\u001b[39;49m\u001b[43mmax_row\u001b[49m\u001b[43m(\u001b[49m\u001b[43m)\u001b[49m\n\u001b[0;32m     26\u001b[0m columns \u001b[38;5;241m=\u001b[39m chosen_sheet\u001b[38;5;241m.\u001b[39mmax_columns()\n\u001b[0;32m     27\u001b[0m \u001b[38;5;28mprint\u001b[39m(\u001b[38;5;124m\"\u001b[39m\u001b[38;5;124m(\u001b[39m\u001b[38;5;124m\"\u001b[39m, \u001b[38;5;28mstr\u001b[39m(rows), \u001b[38;5;124m\"\u001b[39m\u001b[38;5;124mx\u001b[39m\u001b[38;5;124m\"\u001b[39m, \u001b[38;5;28mstr\u001b[39m(columns), \u001b[38;5;124m\"\u001b[39m\u001b[38;5;124m)\u001b[39m\u001b[38;5;124m\"\u001b[39m)\n",
      "\u001b[1;31mTypeError\u001b[0m: 'int' object is not callable"
     ]
    }
   ],
   "source": [
    "import openpyxl\n",
    "import os\n",
    "\n",
    "file_path = \"C:\\\\Users\\\\billd\\\\Test scripts\\\\Automate the boring stuff files\\\\example.xlsx\"\n",
    "wb = openpyxl.load_workbook(file_path)\n",
    "print(type(wb))\n",
    "\n",
    "for item in wb.sheetnames:\n",
    "    print(item)\n",
    "\n",
    "print(wb.active)\n",
    "\n",
    "chosen_sheet = wb['Sheet1']\n",
    "\n",
    "chosen_sheet\n",
    "chosen_sheet.title\n",
    "print(chosen_sheet['A1'].value)\n",
    "\n",
    "# cell objects also have row, column and coordinate attributes\n",
    "chosen_sheet.cell(row=1, column=2)\n",
    "for i in range(1, 8, 2):\n",
    "    print(i, chosen_sheet.cell(row=i,column=2).value)\n",
    "\n",
    "# Determine sheet size\n",
    "rows = chosen_sheet.max_row # properties, not methods\n",
    "columns = chosen_sheet.max_column # properties, not methods\n",
    "print(\"(\", str(rows), \"x\", str(columns), \")\")"
   ]
  },
  {
   "cell_type": "code",
   "execution_count": 26,
   "metadata": {},
   "outputs": [
    {
     "name": "stdout",
     "output_type": "stream",
     "text": [
      "A\n"
     ]
    },
    {
     "data": {
      "text/plain": [
       "1"
      ]
     },
     "execution_count": 26,
     "metadata": {},
     "output_type": "execute_result"
    }
   ],
   "source": [
    "# Converting between letters and numbers\n",
    "print(openpyxl.utils.get_column_letter(1))\n",
    "(openpyxl.utils.column_index_from_string('A'))"
   ]
  },
  {
   "cell_type": "code",
   "execution_count": 27,
   "metadata": {},
   "outputs": [
    {
     "data": {
      "text/plain": [
       "((<Cell 'Sheet1'.A1>, <Cell 'Sheet1'.B1>, <Cell 'Sheet1'.C1>),\n",
       " (<Cell 'Sheet1'.A2>, <Cell 'Sheet1'.B2>, <Cell 'Sheet1'.C2>),\n",
       " (<Cell 'Sheet1'.A3>, <Cell 'Sheet1'.B3>, <Cell 'Sheet1'.C3>))"
      ]
     },
     "execution_count": 27,
     "metadata": {},
     "output_type": "execute_result"
    }
   ],
   "source": [
    "# Slicing areas of the sheet\n",
    "\n",
    "area = tuple(chosen_sheet['A1':'C3'])\n",
    "print(area)"
   ]
  },
  {
   "cell_type": "code",
   "execution_count": 28,
   "metadata": {},
   "outputs": [
    {
     "name": "stdout",
     "output_type": "stream",
     "text": [
      "A1 2015-04-05 13:34:02\n",
      "B1 Apples\n",
      "C1 73\n",
      "---End of row---\n",
      "A2 2015-04-05 03:41:23\n",
      "B2 Cherries\n",
      "C2 85\n",
      "---End of row---\n",
      "A3 2015-04-06 12:46:51\n",
      "B3 Pears\n",
      "C3 14\n",
      "---End of row---\n"
     ]
    }
   ],
   "source": [
    "# Iterating through cells in each row, for each row in area\n",
    "for rowOfCellObjects in area:\n",
    "    for cellObj in rowOfCellObjects:\n",
    "        print(cellObj.coordinate, cellObj.value)\n",
    "    print('---End of row---')"
   ]
  },
  {
   "cell_type": "code",
   "execution_count": 30,
   "metadata": {},
   "outputs": [
    {
     "name": "stdout",
     "output_type": "stream",
     "text": [
      "Opening workbook\n",
      "Reading rows\n",
      "Writing results\n",
      "Done\n"
     ]
    }
   ],
   "source": [
    "#! readCensusExcel.py - Tabulates population and number of census tracts for each county\n",
    "\n",
    "import openpyxl, pprint\n",
    "print(\"Opening workbook\")\n",
    "file_path = \"C:\\\\Users\\\\billd\\\\Test scripts\\\\Automate the boring stuff files\\\\censuspopdata.xlsx\"\n",
    "wb = openpyxl.load_workbook(file_path)\n",
    "sheet = wb['Population by Census Tract']\n",
    "countyData = {}\n",
    "\n",
    "# Filling in countyData with each country's populaiton and tracts\n",
    "print(\"Reading rows\")\n",
    "for row in range(2, sheet.max_row + 1):\n",
    "    state = sheet['B' + str(row)].value\n",
    "    county = sheet['C' + str(row)].value\n",
    "    pop = sheet['D' + str(row)].value\n",
    "\n",
    "    countyData.setdefault(state, {})\n",
    "    countyData[state].setdefault(county, {'tracts':0, 'pop':0})\n",
    "    # Each row represents one census tract, so increment by one\n",
    "    countyData[state][county]['tracts'] +=1\n",
    "    # Account for the population in each\n",
    "    countyData[state][county]['pop'] += int(pop)\n",
    "\n",
    "print('Writing results')\n",
    "resultFile = open('C:\\\\Users\\\\billd\\\\Test scripts\\\\Automate the boring stuff files\\\\census2010.py', 'w')\n",
    "# pprint prodices a string that is formatted as valid python code\n",
    "resultFile.write('allData = ' + pprint.pformat(countyData))\n",
    "resultFile.close()\n",
    "print('Done')\n",
    "\n",
    "\n",
    "\n",
    "                      "
   ]
  },
  {
   "cell_type": "code",
   "execution_count": 2,
   "metadata": {},
   "outputs": [
    {
     "name": "stdout",
     "output_type": "stream",
     "text": [
      "{'pop': 291826, 'tracts': 55}\n"
     ]
    }
   ],
   "source": [
    "# The above code only needs to be run once.\n",
    "# From now on, you can just import census2010 as a module and access data from this.\n",
    "import os\n",
    "os.chdir(\"C:\\\\Users\\\\billd\\\\Test scripts\\\\Automate the boring stuff files\")\n",
    "import census2010\n",
    "print(census2010.allData['AK']['Anchorage'])"
   ]
  },
  {
   "cell_type": "code",
   "execution_count": 8,
   "metadata": {},
   "outputs": [],
   "source": [
    "#   Saving excel files\n",
    "os.chdir(\"C:\\\\Users\\\\billd\\\\Test scripts\")\n",
    "import openpyxl\n",
    "os.chdir(\"C:\\\\Users\\\\billd\\\\Test scripts\\\\Automate the boring stuff files\")\n",
    "wb = openpyxl.load_workbook('example.xlsx')\n",
    "sheet = wb.active\n",
    "sheet['B1'] = \"=SUM(A1:A3)\"\n",
    "wb.save('different_name.xlsx')\n",
    "\n",
    "# NOTES: if you want to only load in the actual values of a worksheet ...\n",
    "# ... cells (not the formulae), you should load it in as follows:\n",
    "# data = openpyxl.load_workbook('example.xlsx', data_only=True)"
   ]
  },
  {
   "cell_type": "code",
   "execution_count": null,
   "metadata": {},
   "outputs": [],
   "source": [
    "# Other notes:\n",
    "# You can create and read in excel charts\n",
    "# Google the python methods and capabilities for this in time.\n"
   ]
  }
 ],
 "metadata": {
  "kernelspec": {
   "display_name": "Python 3",
   "language": "python",
   "name": "python3"
  },
  "language_info": {
   "codemirror_mode": {
    "name": "ipython",
    "version": 3
   },
   "file_extension": ".py",
   "mimetype": "text/x-python",
   "name": "python",
   "nbconvert_exporter": "python",
   "pygments_lexer": "ipython3",
   "version": "3.9.13"
  }
 },
 "nbformat": 4,
 "nbformat_minor": 2
}
